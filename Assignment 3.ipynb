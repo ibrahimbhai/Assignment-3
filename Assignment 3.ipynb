{
 "cells": [
  {
   "cell_type": "markdown",
   "metadata": {},
   "source": [
    "<h3>Q no 1:  Write a python program to find number of occurrences of given number in a list with out using built-in methods</h3>\n",
    "<h4>**1 generate a list of some random num which is repeated again and again</h4>\n",
    "<h4>**2 take user input any number</h4>\n",
    "<h4>**3 find the number of occurrences of that num in your list</h4>\n",
    "<h4>**4 print some message to user with that result</h4>"
   ]
  },
  {
   "cell_type": "code",
   "execution_count": 3,
   "metadata": {},
   "outputs": [
    {
     "name": "stdout",
     "output_type": "stream",
     "text": [
      "Here Is The Numbers Present In The List\n",
      "[12, 48, 13, 25, 27, 59, 35, 47, 58, 34, 45]\n",
      "Input One Number I'll Tell How Many Times The List Contains The Number: 12\n",
      "12 Is Present 5 Times In The List\n"
     ]
    }
   ],
   "source": [
    "new_list = [12,48,13,25,27,48,59,13,12,35,59,13,13,13,59,25,12,27,25,27,12,47,58,34,12,13,13,13,13,48,45]\n",
    "def ck_list(*args):\n",
    "    chk_list=[]\n",
    "    for i in new_list:\n",
    "        if i not in chk_list:\n",
    "            chk_list.append(i)\n",
    "    return chk_list\n",
    "key = int(input(f\"Here Is The Numbers Present In The List\\n{ck_list(*new_list)}\\nInput One Number I'll Tell How Many Times The List Contains The Number: \"))\n",
    "def fun(key,result=0,*args):\n",
    "    for i in args:\n",
    "        if i==key:\n",
    "           result+=1\n",
    "    return result\n",
    "if key in ck_list(*new_list):\n",
    "    print(f\"{key} Is Present {fun(key,0,*new_list)} Times In The List\")\n",
    "else:\n",
    "    print(\"You Give A Worng Input \")"
   ]
  },
  {
   "cell_type": "code",
   "execution_count": null,
   "metadata": {},
   "outputs": [],
   "source": []
  },
  {
   "cell_type": "markdown",
   "metadata": {},
   "source": [
    "<h3>Q no 2:   [\"www.zframez.com\", \"www.wikipedia.org\", \"www.asp.net\", \"www.abcd.in\"]\n",
    "<br/><br/><br/><br/><br/>\n",
    "Write a python program to print website suffixes (com , org , net ,in) from this list\n",
    "\n",
    "Hint : Use split() method to perform this task\n",
    "</h3>\n"
   ]
  },
  {
   "cell_type": "code",
   "execution_count": 4,
   "metadata": {},
   "outputs": [
    {
     "name": "stdout",
     "output_type": "stream",
     "text": [
      "com\n",
      "org\n",
      "net\n",
      "in\n"
     ]
    }
   ],
   "source": [
    "web= [\"www.zframez.com\", \"www.wikipedia.org\", \"www.asp.net\", \"www.abcd.in\"] \n",
    "for i in web:\n",
    "    i=i.split(\".\")[2]\n",
    "    print(i)"
   ]
  },
  {
   "cell_type": "code",
   "execution_count": null,
   "metadata": {},
   "outputs": [],
   "source": []
  },
  {
   "cell_type": "markdown",
   "metadata": {},
   "source": [
    "<h3> Q no 3 : Write a program which can compute the factorial of a given numbers.</h3>\n",
    "<br/>\n",
    "<br/>\n",
    "<h4>**1 first take user input any number</h4>\n",
    "<h4>**2 calculate factorial of that input and then print the result to user</h4>"
   ]
  },
  {
   "cell_type": "code",
   "execution_count": 5,
   "metadata": {},
   "outputs": [
    {
     "name": "stdout",
     "output_type": "stream",
     "text": [
      "Enter An Integer Number: 8\n",
      "The Factorial Of 8 Is '40320' \n"
     ]
    }
   ],
   "source": [
    "key=int(input(\"Enter An Integer Number: \"))\n",
    "def fact(key):\n",
    "    if key>1:\n",
    "        return key*fact(key-1)\n",
    "    else:\n",
    "        return 1\n",
    "print(f\"The Factorial Of {key} Is '{fact(key)}' \")"
   ]
  },
  {
   "cell_type": "code",
   "execution_count": null,
   "metadata": {},
   "outputs": [],
   "source": []
  },
  {
   "cell_type": "markdown",
   "metadata": {},
   "source": [
    "<h3>Q 4 (a) :  If you could invite anyone, living or deceased, to dinner, who\n",
    "would you invite? Make a list that includes at least three people you’d like to\n",
    "invite to dinner. Then use your list to print a message to each person, inviting\n",
    "them to dinner.</h3>"
   ]
  },
  {
   "cell_type": "code",
   "execution_count": 13,
   "metadata": {},
   "outputs": [
    {
     "name": "stdout",
     "output_type": "stream",
     "text": [
      "Hello Mr.Asim, We Invited You For Dinner On Saturday @8:00p.m\n",
      "Hello Mr.Haris, We Invited You For Dinner On Saturday @8:00p.m\n",
      "Hello Mr.Talha, We Invited You For Dinner On Saturday @8:00p.m\n",
      "Hello Mr.Noman, We Invited You For Dinner On Saturday @8:00p.m\n"
     ]
    }
   ],
   "source": [
    "frnds = ['Asim','Haris','Talha','Noman']\n",
    "def frnd_list(*args):\n",
    "    for i in args:\n",
    "        print(f\"Hello Mr.{i}, We Invited You For Dinner On Saturday @8:00p.m\")\n",
    "frnd_list(*frnds)"
   ]
  },
  {
   "cell_type": "code",
   "execution_count": null,
   "metadata": {},
   "outputs": [],
   "source": []
  },
  {
   "cell_type": "code",
   "execution_count": null,
   "metadata": {},
   "outputs": [],
   "source": []
  },
  {
   "cell_type": "markdown",
   "metadata": {},
   "source": [
    "<h3>Q 4 (b) : You just heard that one of your guests can’t make the\n",
    "dinner, so you need to send out a new set of invitations. You’ll have to think of\n",
    "someone else to invite.<br/></br><br/>\n",
    "•\t Start with your program from Q 4 (a). Add a print statement at the\n",
    "end of your program stating the name of the guest who can’t make it.<br/></br><br/>\n",
    "•\t Modify your list, replacing the name of the guest who can’t make it with\n",
    "the name of the new person you are inviting.<br/></br><br/>\n",
    "•\t Print a second set of invitation messages, one for each person who is still\n",
    "in your list.<br/></br><br/></h3>"
   ]
  },
  {
   "cell_type": "code",
   "execution_count": 14,
   "metadata": {},
   "outputs": [
    {
     "name": "stdout",
     "output_type": "stream",
     "text": [
      "Mr.Haris, You Can't Make Dinner\n",
      "Hello Mr.Asim, We Invited You For Dinner On Saturday @8:00p.m\n",
      "Hello Mr.Yasir, We Invited You For Dinner On Saturday @8:00p.m\n",
      "Hello Mr.Talha, We Invited You For Dinner On Saturday @8:00p.m\n",
      "Hello Mr.Noman, We Invited You For Dinner On Saturday @8:00p.m\n"
     ]
    }
   ],
   "source": [
    "print(f\"Mr.{frnds[1]}, You Can't Make Dinner\")\n",
    "frnds[1]='Yasir'\n",
    "frnd_list(*frnds)"
   ]
  },
  {
   "cell_type": "code",
   "execution_count": null,
   "metadata": {},
   "outputs": [],
   "source": []
  },
  {
   "cell_type": "code",
   "execution_count": null,
   "metadata": {},
   "outputs": [],
   "source": []
  },
  {
   "cell_type": "markdown",
   "metadata": {},
   "source": [
    "<h3>Q 4 (c) : You just found a bigger dinner table, so now more space is\n",
    "available. Think of three more guests to invite to dinner.<br/></br><br/>\n",
    "•\t Start with your program from Q 4 (a) and (b) Add a print\n",
    "statement to the end of your program informing people that you found a\n",
    "bigger dinner table.<br/></br><br/>\n",
    "•\t Use insert() to add one new guest to the beginning of your list.<br/></br><br/>\n",
    "•\t Use insert() to add one new guest to the middle of your list.<br/></br><br/>\n",
    "•\t Use append() to add one new guest to the end of your list.<br/></br><br/>\n",
    "•\t Print a new set of invitation messages, one for each person in your list.<br/></br><br/></h3>"
   ]
  },
  {
   "cell_type": "code",
   "execution_count": 15,
   "metadata": {},
   "outputs": [
    {
     "data": {
      "text/plain": [
       "['Danish', 'Arsalan', 'Asim', 'Yasir', 'Talha', 'Noman', 'Imran']"
      ]
     },
     "execution_count": 15,
     "metadata": {},
     "output_type": "execute_result"
    }
   ],
   "source": [
    "frnds.insert(0,'Arsalan')\n",
    "frnds.insert(0,'Danish')\n",
    "frnds.append('Imran')\n",
    "frnds"
   ]
  },
  {
   "cell_type": "code",
   "execution_count": 16,
   "metadata": {},
   "outputs": [
    {
     "name": "stdout",
     "output_type": "stream",
     "text": [
      "Hello Mr.Danish, We Invited You For Dinner On Saturday @8:00p.m\n",
      "Hello Mr.Arsalan, We Invited You For Dinner On Saturday @8:00p.m\n",
      "Hello Mr.Asim, We Invited You For Dinner On Saturday @8:00p.m\n",
      "Hello Mr.Yasir, We Invited You For Dinner On Saturday @8:00p.m\n",
      "Hello Mr.Talha, We Invited You For Dinner On Saturday @8:00p.m\n",
      "Hello Mr.Noman, We Invited You For Dinner On Saturday @8:00p.m\n",
      "Hello Mr.Imran, We Invited You For Dinner On Saturday @8:00p.m\n"
     ]
    }
   ],
   "source": [
    "frnd_list(*frnds)"
   ]
  },
  {
   "cell_type": "code",
   "execution_count": null,
   "metadata": {},
   "outputs": [],
   "source": []
  },
  {
   "cell_type": "markdown",
   "metadata": {},
   "source": [
    "<h5> Q 5 : Here you have some data in variable below, your task is to make a list of specific word Surah then print the list and length of list</h5>\n"
   ]
  },
  {
   "cell_type": "code",
   "execution_count": 17,
   "metadata": {},
   "outputs": [
    {
     "name": "stdout",
     "output_type": "stream",
     "text": [
      "The Word 'Surah' Is Used 2 In The Given Data'\n"
     ]
    }
   ],
   "source": [
    "info='Surah I Who believe in the Unseen, Surah Are steadfast in prayer, And spend Sura out of what We Have provided for them;'\n",
    "specific_word=[]\n",
    "wrap=info.split(\" \")\n",
    "for i in wrap:\n",
    "    if i == 'Surah':\n",
    "        specific_word.append(i)\n",
    "print(f\"The Word 'Surah' Is Used {len(specific_word)} In The Given Data'\")"
   ]
  },
  {
   "cell_type": "code",
   "execution_count": null,
   "metadata": {},
   "outputs": [],
   "source": []
  },
  {
   "cell_type": "markdown",
   "metadata": {},
   "source": [
    " <h3>Q no 6 : You have some name of cities in list named cities, Your task is to check whether Karachi is present in this list or not, if present print the index where the value Karachi is present</h3>"
   ]
  },
  {
   "cell_type": "code",
   "execution_count": 18,
   "metadata": {},
   "outputs": [
    {
     "name": "stdout",
     "output_type": "stream",
     "text": [
      "'Karachi' is present is the list, and the index is 3\n"
     ]
    }
   ],
   "source": [
    "cities=[\"Multan\",\"Lahore\",\"Peshawar\",\"Karachi\",\"Hyderabad\",\"Quetta\"]\n",
    "for i in cities:\n",
    "    if i == \"Karachi\":\n",
    "        print(f\"'Karachi' is present is the list, and the index is {cities.index(i)}\")"
   ]
  },
  {
   "cell_type": "code",
   "execution_count": null,
   "metadata": {},
   "outputs": [],
   "source": []
  },
  {
   "cell_type": "code",
   "execution_count": null,
   "metadata": {},
   "outputs": [],
   "source": []
  }
 ],
 "metadata": {
  "kernelspec": {
   "display_name": "Python 3",
   "language": "python",
   "name": "python3"
  },
  "language_info": {
   "codemirror_mode": {
    "name": "ipython",
    "version": 3
   },
   "file_extension": ".py",
   "mimetype": "text/x-python",
   "name": "python",
   "nbconvert_exporter": "python",
   "pygments_lexer": "ipython3",
   "version": "3.7.3"
  }
 },
 "nbformat": 4,
 "nbformat_minor": 2
}
